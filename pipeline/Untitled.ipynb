{
 "cells": [
  {
   "cell_type": "code",
   "execution_count": 8,
   "id": "9da101ed",
   "metadata": {},
   "outputs": [],
   "source": [
    "x = \"\"\"This is a 3 year research project. In 2024, the project will implement a proof of concept to understand required technology, tools, and processes. In 2025, the first release prioritizes generality, quality, flexibility, and robustness. Year 3 enhances the tool and makes it publicly available for critical editions work. During the research project Vesalainen and Rosson will publish methodological articles for their Ph.D. studies annually.\n",
    "\"\"\""
   ]
  },
  {
   "cell_type": "code",
   "execution_count": 9,
   "id": "027a5c36",
   "metadata": {},
   "outputs": [
    {
     "data": {
      "text/plain": [
       "442"
      ]
     },
     "execution_count": 9,
     "metadata": {},
     "output_type": "execute_result"
    }
   ],
   "source": [
    "len(x)"
   ]
  },
  {
   "cell_type": "code",
   "execution_count": null,
   "id": "cacbdc73",
   "metadata": {},
   "outputs": [],
   "source": []
  }
 ],
 "metadata": {
  "kernelspec": {
   "display_name": "Python 3",
   "language": "python",
   "name": "python3"
  },
  "language_info": {
   "codemirror_mode": {
    "name": "ipython",
    "version": 3
   },
   "file_extension": ".py",
   "mimetype": "text/x-python",
   "name": "python",
   "nbconvert_exporter": "python",
   "pygments_lexer": "ipython3",
   "version": "3.8.5"
  }
 },
 "nbformat": 4,
 "nbformat_minor": 5
}
