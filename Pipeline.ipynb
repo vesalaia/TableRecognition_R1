{
 "cells": [
  {
   "cell_type": "code",
   "execution_count": 1,
   "id": "55ee2b84-44f9-411d-afcd-979f7362edb3",
   "metadata": {},
   "outputs": [],
   "source": [
    "import argparse\n",
    "import os\n",
    "import sys\n",
    "sys.path.append('/users/vesalaia/pipelinv2')\n",
    "sys.path.append(\"/users/vesalaia/.local/lib/python3.9/site-packages/bin\")\n",
    "sys.path.append(\"/users/vesalaia/.local/lib/python3.9/site-packages/lib/python3.9/site-packages\")"
   ]
  },
  {
   "cell_type": "code",
   "execution_count": 2,
   "id": "2c14ceb3-5cfb-488c-936a-a7c06308a528",
   "metadata": {},
   "outputs": [],
   "source": [
    "import logging\n",
    "\n",
    "import datetime\n",
    "now = datetime.datetime.now()\n",
    "\n",
    "timestamp = now.strftime(\"%Y-%m-%d_%H-%M-%S\")\n",
    "log_file_name = f\"table_recognition_{timestamp}.log\"\n",
    "\n",
    "logging.basicConfig(\n",
    "    filename=log_file_name,\n",
    "    level=logging.INFO,\n",
    "    format='[%(asctime)s] %(levelname)s - %(message)s',\n",
    "    datefmt='%H:%M:%S'\n",
    ")\n"
   ]
  },
  {
   "cell_type": "code",
   "execution_count": 3,
   "id": "f13e287a-0d34-4f25-a6dd-874357c84f17",
   "metadata": {},
   "outputs": [],
   "source": [
    "from config.options import Options\n",
    "\n",
    "from data.dataset import OCRDatasetInstanceSeg\n",
    "from pipeline.engine import initFolder, extractText, pipelineTask\n",
    "from utils.config_check import configuration_ok"
   ]
  },
  {
   "cell_type": "code",
   "execution_count": 4,
   "id": "1c593204-2c7e-404a-aac2-5d32175fe6a9",
   "metadata": {},
   "outputs": [],
   "source": [
    "def str2bool(v):\n",
    "    if isinstance(v, bool):\n",
    "        return v\n",
    "    if v.lower() in ('yes', 'true', 't', 'y', '1'):\n",
    "        return True\n",
    "    elif v.lower() in ('no', 'false', 'f', 'n', '0'):\n",
    "        return False\n",
    "    else:\n",
    "        logging.error('A serious error occurred. Boolean value expected.')\n",
    "        raise argparse.ArgumentTypeError('Boolean value expected.')"
   ]
  },
  {
   "cell_type": "code",
   "execution_count": 5,
   "id": "521df872-e783-41dc-961e-f159e5de0aef",
   "metadata": {},
   "outputs": [],
   "source": [
    "import cv2\n",
    "import numpy as np\n",
    "import matplotlib.pyplot as plt\n",
    "\n",
    "def crop_polygon_from_image(image, polygon):\n",
    "    mask = np.zeros_like(image)\n",
    "    cv2.fillPoly(mask, [polygon], (255, 255, 255))\n",
    "    cropped_image = cv2.bitwise_and(image, mask)\n",
    "    x, y, w, h = cv2.boundingRect(polygon)\n",
    "    cropped_image = cropped_image[y:y+h, x:x+w]\n",
    "    return cropped_image\n"
   ]
  },
  {
   "cell_type": "code",
   "execution_count": 6,
   "id": "28233ffa-a999-47bd-82b7-bb086296ed6b",
   "metadata": {},
   "outputs": [
    {
     "data": {
      "text/plain": [
       "'\\nTasks:\\n    init:\\n    region:\\n    line:\\n    table:\\n    recognize:\\n    update:\\n    text:\\n    json:\\n'"
      ]
     },
     "execution_count": 6,
     "metadata": {},
     "output_type": "execute_result"
    }
   ],
   "source": [
    "\"\"\"\n",
    "Tasks:\n",
    "    init:\n",
    "    region:\n",
    "    line:\n",
    "    table:\n",
    "    recognize:\n",
    "    update:\n",
    "    text:\n",
    "    json:\n",
    "\"\"\""
   ]
  },
  {
   "cell_type": "code",
   "execution_count": 14,
   "id": "e78d8f1d-cfd7-48f3-851d-3e777f009af9",
   "metadata": {},
   "outputs": [],
   "source": [
    "def processTask(cfgfile, executeTask, infolder, inpage, outpage):\n",
    "    logging.info(f\"Configuration file: {cfgfile}\")\n",
    "    if cfgfile != None:\n",
    "        opts =  Options(cfgfile)\n",
    "\n",
    "    if configuration_ok(opts, executeTask.lower()):    \n",
    "        if executeTask.lower() in [\"init\", \"i\"]:\n",
    "            executeTask = \"init\"\n",
    "            if outpage == \"\":\n",
    "                outpage = \"page\"\n",
    "            if infolder != \"\":\n",
    "                logging.info(f\"Task:{executeTask} Folder:{infolder} XML-output: {outpage}\")\n",
    "                initFolder(opts, infolder, outpage) \n",
    "        elif executeTask.lower() in [\"text\", \"json\", \"csv\"]:\n",
    "            executeTask = executeTask.lower()\n",
    "            if inpage == \"\":\n",
    "                inpage = \"pageText\"\n",
    "            if outpage == \"\":\n",
    "                outpage = \"text\"\n",
    "            if infolder != \"\":\n",
    "                logging.info(f\"Task:{executeTask} Folder:{infolder} XML-input:{inpage} XML-output: {outpage}\")\n",
    "                extractText(opts, infolder, inpage, outpage) \n",
    "        elif executeTask.lower() in [\"detectregion\", \"dr\", \"region\"]:\n",
    "            executeTask = \"region\"\n",
    "            if inpage == \"\":\n",
    "                inpage = \"page\"\n",
    "            if outpage == \"\":\n",
    "                outpage = \"pageRD\"\n",
    "            if infolder != \"\":\n",
    "                RO_groups = opts.RO_region_groups\n",
    "                logging.info(f\"Task:{executeTask} Folder:{infolder} XML-input:{inpage} XML-output: {outpage}\")\n",
    "                pipelineTask(opts, executeTask, infolder, inpage=inpage, outpage=outpage, tryMerge=tryMerge, \n",
    "                             reading_order=reading_order)\n",
    "        elif executeTask.lower() in [\"detectlines\", \"dl\", \"line\"]:\n",
    "            executeTask = \"line\"\n",
    "            if inpage == \"\":\n",
    "                inpage = \"pageRD\"\n",
    "            if outpage == \"\":\n",
    "                outpage = \"pageLD\"\n",
    "            if infolder != \"\":\n",
    "                RO_groups = opts.RO_region_groups\n",
    "                one_page_per_image = True\n",
    "                logging.info(f\"Task:{executeTask} Folder:{infolder} XML-input:{inpage} XML-output: {outpage}\")\n",
    "                pipelineTask(opts, executeTask, infolder, inpage=inpage, outpage=outpage, tryMerge=tryMerge,\n",
    "                            reading_order=reading_order, line_model=\"mask r-cnn\")\n",
    "        elif executeTask.lower() in [\"recognizetext\", \"rt\", \"recognize\"]:\n",
    "            executeTask = \"recognize\"\n",
    "            if inpage == \"\":\n",
    "                inpage = \"pageLD\"\n",
    "            if outpage == \"\":\n",
    "                outpage = \"pageText\"\n",
    "            if infolder != None:\n",
    "                RO_groups = opts.RO_region_groups\n",
    "                logging.info(f\"Task:{executeTask} Folder:{infolder} XML-input:{inpage} XML-output: {outpage}\")\n",
    "                pipelineTask(opts, executeTask, infolder, inpage=inpage, outpage=outpage, \n",
    "                             reading_order=reading_order)\n",
    "        elif executeTask.lower() in [\"update\", \"u\"]:\n",
    "            executeTask = \"update\"\n",
    "            if inpage == \"\":\n",
    "                inpage = \"pageLD\"\n",
    "            if outpage == \"\":\n",
    "                outpage = \"pageU\"\n",
    "                if infolder != \"\":\n",
    "                    RO_groups = opts.RO_line_groups\n",
    "                    logging.info(f\"Task:{executeTask} Folder:{infolder} XML-input:{inpage} XML-output: {outpage}\")\n",
    "                    pipelineTask(opts, executeTask, infolder, inpage=inpage, outpage=outpage, \n",
    "                             reading_order=reading_order, combine=combine)\n",
    "        elif executeTask.lower() in [\"table\", \"t\"]:\n",
    "            executeTask = \"table\"\n",
    "            if inpage == \"\":\n",
    "                inpage = \"page\"\n",
    "            if outpage == \"\":\n",
    "                outpage = \"pageTbl\"\n",
    "            if infolder != \"\":\n",
    "                logging.info(f\"Task:{executeTask} Folder:{infolder} XML-input:{inpage} XML-output: {outpage}\")\n",
    "                pipelineTask(opts, executeTask, infolder, inpage=inpage, outpage=outpage, \n",
    "                             reading_order=False, combine=False)\n",
    "        elif executeTask.lower() in [\"cell\", \"c\"]:\n",
    "            executeTask = \"cell\"\n",
    "            if inpage == \"\":\n",
    "                inpage = \"pageTbl\"\n",
    "            if outpage == \"\":\n",
    "                outpage = \"pageCell\"\n",
    "            if infolder != \"\":\n",
    "                logging.info(f\"Task:{executeTask} Folder:{infolder} XML-input:{inpage} XML-output: {outpage}\")\n",
    "                pipelineTask(opts, executeTask, infolder, inpage=inpage, outpage=outpage, \n",
    "                             reading_order=False, combine=False)\n",
    "        elif executeTask.lower() in [\"cellrecognize\", \"cr\"]:\n",
    "            executeTask = \"cellrecognize\"\n",
    "            if inpage == \"\":\n",
    "                inpage = \"pageCell\"\n",
    "            if outpage == \"\":\n",
    "                outpage = \"pageText\"\n",
    "            if infolder != None:\n",
    "                logging.info(f\"Task:{executeTask} Folder:{infolder} XML-input:{inpage} XML-output: {outpage}\")\n",
    "                pipelineTask(opts, executeTask, infolder, inpage=inpage, outpage=outpage)\n",
    "        else:\n",
    "            logging.error(f\"Task not recognized: {executeTask}\")\n"
   ]
  },
  {
   "cell_type": "code",
   "execution_count": null,
   "id": "206f7328-508a-4f51-a90d-089479f76584",
   "metadata": {},
   "outputs": [],
   "source": [
    "cfgfile = \"/users/vesalaia/config/config_table_775.ini\"\n",
    "opts = Options(cfgfile)"
   ]
  },
  {
   "cell_type": "code",
   "execution_count": null,
   "id": "7dbf4a28-a8a3-427d-a750-4649bd0f53bf",
   "metadata": {},
   "outputs": [],
   "source": [
    "print(opts.installed_pckgs)\n",
    "configuration_ok(opts, \"cellrecognize\")\n"
   ]
  },
  {
   "cell_type": "code",
   "execution_count": null,
   "id": "a68e521d-afd6-495c-b61b-5c1e8eb801df",
   "metadata": {},
   "outputs": [],
   "source": [
    "infolder = \"/scratch/project_2005488/Muutto/Pielavesi\" \n",
    "\n",
    "executeTask = \"init\"\n",
    "inpage = \"\"\n",
    "outpage = \"page\"\n",
    "cfgfile = \"/users/vesalaia/config/config_table_775.ini\"\n",
    "processTask(cfgfile, executeTask, infolder, inpage, outpage)\n",
    "\n"
   ]
  },
  {
   "cell_type": "code",
   "execution_count": 9,
   "id": "59d4d6b2-fd6c-489b-baa9-21c78c6d18ef",
   "metadata": {},
   "outputs": [
    {
     "name": "stdout",
     "output_type": "stream",
     "text": [
      "Loading YOLO table models\n",
      "[{'type': 'content', 'coords': [1103, 187, 2119, 1655]}, {'type': 'content', 'coords': [82, 188, 1079, 1660]}, {'type': 'header', 'coords': [374, 93, 764, 178]}, {'type': 'header', 'coords': [1393, 107, 1761, 188]}]\n",
      "================================================================================\n",
      "[[1353, 1073, 1822, 1134], [311, 682, 775, 741], [312, 853, 774, 910], [1356, 683, 1824, 743], [1356, 854, 1823, 912], [1353, 1187, 1821, 1246], [1358, 508, 1823, 573], [1352, 1243, 1821, 1305], [312, 962, 773, 1018], [1357, 740, 1824, 798], [1355, 1016, 1821, 1075], [313, 1133, 772, 1190], [1356, 962, 1823, 1019], [311, 1073, 772, 1136], [311, 1246, 771, 1309], [313, 797, 772, 855], [315, 1015, 775, 1075], [317, 503, 774, 567], [313, 564, 776, 624], [312, 1305, 771, 1363], [316, 738, 775, 799], [1354, 1131, 1821, 1190], [315, 905, 773, 964], [312, 331, 778, 386], [313, 1465, 770, 1518], [1358, 571, 1822, 627], [1357, 625, 1822, 683], [80, 1566, 224, 1660], [313, 1189, 772, 1246], [1357, 796, 1823, 855], [1352, 1299, 1821, 1362], [312, 1361, 771, 1413], [1360, 392, 1823, 451], [1356, 908, 1826, 966], [313, 1513, 770, 1562], [1360, 334, 1822, 395], [1350, 1460, 1820, 1513], [1350, 1408, 1818, 1466], [313, 621, 776, 682], [1819, 1245, 1904, 1301], [313, 1413, 769, 1468], [1819, 1072, 1905, 1133], [778, 276, 880, 333], [1350, 1506, 1820, 1558], [771, 966, 874, 1020], [770, 1248, 872, 1308], [1100, 1305, 1270, 1363], [770, 1076, 874, 1136], [311, 385, 778, 445], [1821, 1015, 1905, 1073], [81, 179, 226, 274], [1904, 1073, 2031, 1132], [770, 1135, 872, 1190], [770, 1307, 872, 1364], [1904, 1015, 2031, 1074], [774, 683, 877, 743], [1907, 571, 2034, 629], [771, 1189, 873, 1249], [80, 272, 225, 330], [1905, 854, 2032, 909], [774, 506, 877, 567], [1821, 571, 1906, 629], [874, 857, 999, 911], [772, 856, 875, 911], [1904, 795, 2032, 855], [881, 275, 1002, 335], [1821, 963, 1904, 1016], [266, 1134, 313, 1189], [770, 1019, 874, 1077], [1310, 1361, 1353, 1414], [775, 446, 878, 506], [1106, 273, 1277, 337], [1351, 1357, 1819, 1414], [1361, 190, 1826, 274], [1904, 963, 2032, 1017], [880, 334, 1002, 389], [81, 1305, 224, 1361], [778, 333, 880, 387], [876, 507, 1003, 566], [269, 1016, 314, 1074], [312, 275, 776, 331], [313, 444, 776, 505], [875, 800, 999, 858], [1909, 508, 2034, 572], [774, 624, 877, 684], [1359, 448, 1824, 511], [872, 1188, 997, 1249], [774, 742, 875, 801], [872, 1249, 996, 1308], [270, 1361, 313, 1413], [1109, 571, 1274, 626], [872, 1307, 996, 1364], [1823, 684, 1905, 742], [1821, 908, 1905, 964], [268, 1306, 313, 1361], [1103, 1246, 1270, 1307], [1105, 965, 1272, 1020], [1821, 854, 1905, 909], [1903, 1188, 2030, 1245], [772, 910, 875, 967], [875, 623, 1001, 684], [1904, 908, 2032, 964], [871, 1362, 996, 1415], [1819, 1131, 1904, 1189], [1903, 1131, 2030, 1189], [1098, 1361, 1270, 1416], [81, 961, 225, 1017], [1106, 855, 1272, 911], [777, 386, 880, 446], [1107, 191, 1276, 273], [873, 1019, 998, 1076], [1109, 625, 1274, 684], [1905, 628, 2033, 684], [874, 965, 998, 1021], [877, 447, 1003, 507], [1316, 625, 1359, 683], [777, 566, 877, 624], [1310, 1246, 1354, 1306], [875, 742, 1000, 801], [267, 962, 313, 1017], [774, 801, 875, 856], [768, 1466, 872, 1516], [1312, 966, 1356, 1019], [879, 387, 1002, 447], [1821, 508, 1907, 572], [875, 565, 1002, 624], [1904, 1356, 2030, 1410], [770, 1362, 872, 1414], [872, 1075, 998, 1134], [80, 1073, 225, 1133], [1110, 511, 1274, 572], [80, 1245, 224, 1306], [1107, 682, 1274, 743], [1310, 1305, 1354, 1362], [80, 904, 225, 961], [81, 1361, 224, 1413], [1105, 1076, 1272, 1135], [1311, 855, 1358, 910], [875, 683, 1001, 743], [1311, 1076, 1355, 1135], [269, 1246, 313, 1307], [872, 1134, 997, 1190], [81, 1132, 224, 1190], [767, 1515, 872, 1560], [1314, 571, 1359, 625], [1097, 1414, 1270, 1467], [1105, 1134, 1271, 1189], [80, 384, 226, 444], [1313, 1133, 1354, 1191], [872, 1467, 995, 1517], [1822, 795, 1905, 854], [1903, 1298, 2030, 1357], [1106, 335, 1276, 393], [80, 680, 226, 738], [271, 796, 314, 852], [874, 910, 998, 966], [1819, 1188, 1903, 1245], [1315, 797, 1359, 855], [80, 1466, 224, 1518], [1902, 1244, 2030, 1300], [769, 1413, 872, 1468], [1097, 1466, 1270, 1514], [1105, 797, 1271, 856], [269, 1189, 313, 1245], [272, 564, 314, 624], [1311, 1188, 1354, 1246], [2033, 507, 2074, 571], [224, 1360, 271, 1413], [269, 1074, 314, 1134], [80, 795, 226, 851], [1819, 1356, 1904, 1409], [269, 1466, 313, 1518], [1311, 910, 1357, 966], [1105, 910, 1272, 967], [1821, 628, 1905, 685], [872, 1414, 996, 1468], [81, 441, 226, 502], [79, 737, 226, 796], [766, 1609, 872, 1661], [1905, 683, 2033, 739], [224, 1134, 267, 1190], [1316, 741, 1358, 799], [81, 622, 225, 682], [225, 962, 267, 1017], [1314, 685, 1358, 742], [1271, 1133, 1313, 1191], [1819, 1301, 1904, 1358], [1110, 449, 1275, 512], [272, 738, 314, 798], [81, 851, 225, 906], [1316, 191, 1361, 273], [80, 1015, 225, 1075], [1309, 1560, 1351, 1659], [272, 503, 314, 566], [1270, 1306, 1311, 1362], [1316, 510, 1360, 572], [872, 1609, 996, 1660], [1822, 740, 1905, 795], [271, 682, 314, 739], [1106, 1018, 1272, 1076], [1314, 450, 1361, 511], [1105, 1187, 1270, 1247], [1274, 572, 1315, 625], [1819, 1409, 1906, 1462], [871, 1516, 996, 1560], [80, 502, 224, 566], [1905, 738, 2032, 795], [1107, 741, 1274, 797], [225, 796, 272, 852], [1910, 448, 2034, 510], [81, 1516, 224, 1565], [271, 907, 314, 962], [1270, 1362, 1311, 1415], [1097, 1562, 1272, 1657], [271, 622, 314, 682], [1362, 266, 1826, 336], [1270, 1246, 1311, 1306], [223, 1246, 270, 1307], [1033, 1364, 1069, 1416], [1316, 393, 1360, 451], [1274, 796, 1316, 856], [224, 1306, 268, 1361], [871, 1559, 996, 1610], [1311, 1414, 1352, 1466], [767, 1559, 872, 1610], [79, 329, 226, 385], [80, 1188, 224, 1246], [1314, 275, 1361, 335], [224, 1516, 272, 1563], [1033, 1469, 1068, 1518], [2033, 447, 2074, 508], [995, 1468, 1034, 1517], [1909, 389, 2034, 449], [1274, 511, 1315, 572], [1316, 335, 1361, 394], [224, 1073, 270, 1135], [225, 905, 268, 961], [2032, 793, 2074, 854], [1274, 625, 1315, 684], [996, 1249, 1035, 1308], [1033, 1308, 1069, 1364], [1034, 1248, 1070, 1308], [2033, 570, 2074, 629], [2031, 854, 2073, 909], [1904, 1408, 2029, 1462], [80, 1412, 225, 1467], [995, 1416, 1034, 1469], [81, 563, 225, 622], [1314, 1019, 1355, 1076], [1109, 392, 1276, 450], [1097, 1513, 1271, 1561], [1033, 1416, 1069, 1469], [995, 1517, 1034, 1560], [1273, 684, 1315, 742], [313, 180, 775, 277], [1270, 1414, 1313, 1467], [1273, 741, 1317, 799], [1270, 1188, 1311, 1246], [225, 682, 273, 739], [269, 274, 314, 330], [1271, 1075, 1314, 1136], [1904, 1461, 2028, 1508], [2032, 683, 2074, 739], [225, 274, 270, 330], [996, 1308, 1034, 1364], [1273, 856, 1315, 911], [224, 504, 271, 565], [271, 852, 314, 908], [224, 622, 273, 683], [269, 1517, 313, 1563], [225, 385, 271, 444], [270, 443, 314, 504], [1001, 742, 1039, 802], [996, 1363, 1034, 1417], [2033, 629, 2074, 684], [1276, 275, 1316, 336], [1311, 1465, 1352, 1513], [1276, 192, 1316, 273], [270, 384, 313, 443], [1274, 336, 1316, 393], [1909, 332, 2033, 391], [2033, 331, 2074, 390], [225, 443, 271, 503], [1903, 1608, 2029, 1659], [2033, 388, 2074, 448], [1819, 1607, 1903, 1659], [1819, 1462, 1905, 1507], [225, 1016, 267, 1074], [269, 1412, 313, 1467], [225, 1466, 270, 1518], [223, 181, 271, 273], [1032, 1517, 1068, 1560], [996, 1135, 1035, 1190], [1269, 1466, 1311, 1513], [1275, 392, 1318, 452], [2030, 1072, 2070, 1131], [2032, 739, 2074, 794], [1039, 275, 1074, 334], [1036, 910, 1072, 966], [1273, 910, 1314, 967], [780, 228, 881, 276], [1036, 857, 1071, 910], [1001, 684, 1039, 744], [1038, 684, 1072, 744], [1904, 1506, 2029, 1554], [2031, 1015, 2072, 1074], [1001, 276, 1040, 335], [1274, 450, 1315, 511], [1903, 1552, 2029, 1609], [1269, 1561, 1310, 1658], [1270, 1512, 1312, 1561], [1039, 334, 1072, 390], [2030, 1243, 2070, 1300], [223, 564, 273, 624], [996, 1189, 1034, 1250], [1310, 1511, 1351, 1561], [1002, 447, 1041, 508], [1002, 334, 1040, 389], [1036, 966, 1072, 1019], [882, 228, 1002, 276], [224, 1565, 268, 1660], [1068, 1415, 1095, 1469], [225, 738, 270, 796], [2031, 908, 2074, 965], [1036, 800, 1072, 857], [2028, 1608, 2069, 1659], [224, 1189, 267, 1246], [1272, 967, 1312, 1020], [1819, 1506, 1904, 1553], [225, 851, 270, 906], [1351, 1551, 1818, 1608], [1036, 742, 1072, 801], [1819, 1552, 1904, 1608], [225, 1412, 269, 1467], [2033, 269, 2074, 333], [269, 330, 314, 385], [2030, 1186, 2070, 1245], [998, 857, 1037, 911], [1002, 388, 1041, 447], [1039, 388, 1075, 447], [2031, 964, 2074, 1016], [2029, 1356, 2071, 1410], [2029, 1299, 2070, 1357], [270, 181, 314, 275], [1039, 446, 1073, 508], [1040, 625, 1073, 685], [1034, 1188, 1071, 1250], [1002, 508, 1040, 567], [1351, 1602, 1818, 1657], [2073, 570, 2116, 629], [1068, 1469, 1096, 1516], [225, 330, 271, 385], [2073, 505, 2119, 571], [1003, 567, 1040, 627], [1070, 334, 1102, 390], [1068, 1363, 1095, 1415], [2028, 1462, 2071, 1507], [1825, 390, 1908, 451], [997, 1075, 1036, 1136], [1040, 567, 1073, 626], [1073, 275, 1103, 334], [2030, 1130, 2070, 1187], [2073, 792, 2117, 854], [1002, 625, 1040, 685], [998, 910, 1037, 967], [2028, 1409, 2071, 1463], [999, 800, 1037, 857], [1272, 1019, 1314, 1077], [1036, 1019, 1072, 1076], [1039, 508, 1072, 567], [2027, 1505, 2070, 1552], [314, 1558, 768, 1615], [2073, 628, 2115, 683], [999, 966, 1037, 1020], [1035, 1074, 1071, 1135], [271, 1570, 313, 1659], [316, 1609, 767, 1659], [2073, 267, 2117, 331], [2069, 1072, 2117, 1131], [2027, 1551, 2071, 1608], [2073, 853, 2114, 910], [2072, 908, 2116, 964], [2073, 330, 2117, 389], [2069, 1186, 2114, 1245], [2068, 1243, 2114, 1300], [2069, 1355, 2113, 1409], [2067, 1607, 2111, 1659], [1034, 1135, 1071, 1190], [2073, 682, 2113, 738], [269, 1603, 313, 1661], [995, 1610, 1034, 1659], [2074, 446, 2118, 507], [2073, 388, 2117, 447], [2070, 1014, 2113, 1074], [1822, 449, 1909, 510], [1002, 228, 1040, 275], [2073, 963, 2117, 1016], [2069, 1462, 2113, 1506], [995, 1559, 1033, 1609], [1067, 1517, 1097, 1561], [311, 1574, 770, 1659], [998, 1021, 1038, 1077], [2068, 1299, 2112, 1357], [2069, 1130, 2117, 1187], [2073, 737, 2115, 794], [1039, 228, 1076, 275], [2069, 1408, 2114, 1463], [2068, 1505, 2114, 1552], [1060, 1306, 1093, 1365], [1064, 389, 1099, 448], [2067, 1550, 2116, 1608], [1069, 1307, 1094, 1365], [1826, 333, 1915, 392], [1072, 966, 1098, 1020], [1032, 1559, 1068, 1609], [269, 1562, 313, 1618], [1907, 267, 2033, 333], [312, 1557, 771, 1642], [1071, 910, 1099, 966], [1047, 389, 1090, 448], [1820, 266, 1931, 331], [1046, 334, 1087, 389], [1819, 264, 2036, 332], [1050, 1247, 1088, 1309], [1033, 1610, 1069, 1658], [2034, 190, 2074, 269], [1041, 1189, 1083, 1248]]\n",
      "Predicted rows: 27\n",
      "Predicted rows: 28\n"
     ]
    }
   ],
   "source": [
    "infolder = \"/scratch/project_2005488/Muutto/Pielavesi\" \n",
    "\n",
    "executeTask = \"table\"\n",
    "inpage = \"page\"\n",
    "outpage = \"pageTbl\"\n",
    "cfgfile = \"/users/vesalaia/config/config_hd_table.ini\"\n",
    "processTask(cfgfile, executeTask, infolder, inpage, outpage)"
   ]
  },
  {
   "cell_type": "code",
   "execution_count": null,
   "id": "398844a8-1f83-482c-8cc0-fae0782fcd13",
   "metadata": {},
   "outputs": [],
   "source": [
    "infolder = \"/scratch/project_2005488/Muutto/end-to-end-printed\" \n",
    "inpage = \"pageTbl\"\n",
    "dataset_files = [[infolder, os.path.join(infolder, inpage)]]\n",
    "dataset = OCRDatasetInstanceSeg(dataset_files, {})"
   ]
  },
  {
   "cell_type": "code",
   "execution_count": null,
   "id": "001eb990-618e-4350-9051-59a3ed0e0662",
   "metadata": {},
   "outputs": [],
   "source": [
    "page = dataset.__getXMLitem__(0)"
   ]
  },
  {
   "cell_type": "code",
   "execution_count": null,
   "id": "1368dd9c-f6ff-4dbf-b62f-0557ec1a179b",
   "metadata": {},
   "outputs": [],
   "source": [
    "page['regions']"
   ]
  },
  {
   "cell_type": "code",
   "execution_count": null,
   "id": "070244ca-3b68-4ba2-9a7d-e2d6076de340",
   "metadata": {},
   "outputs": [],
   "source": [
    "from text_recognition.line2text import TRline2Text, text_recognition"
   ]
  },
  {
   "cell_type": "code",
   "execution_count": null,
   "id": "04f37de3-2a9e-45e2-bc86-cd77ec84a7a7",
   "metadata": {},
   "outputs": [],
   "source": [
    "from model.inference import load_text_recognize_model \n",
    "load_text_recognize_model(opts, opts.device)"
   ]
  },
  {
   "cell_type": "code",
   "execution_count": null,
   "id": "9feb125f-1410-406e-917e-241ca0ab550b",
   "metadata": {},
   "outputs": [],
   "source": [
    "def htr(image, processor, model, device):\n",
    "    \"\"\"\n",
    "    :param image: PIL Image.\n",
    "    :param processor: Huggingface OCR processor.\n",
    "    :param model: Huggingface OCR model.\n",
    "\n",
    "    Returns:\n",
    "        generated_text: the OCR'd text string.\n",
    "    \"\"\"\n",
    "    # We can directly perform OCR on cropped images.\n",
    "    pixel_values = processor(image, return_tensors='pt').pixel_values.to(device)\n",
    "    generated_ids = model.generate(pixel_values)\n",
    "    generated_text = processor.batch_decode(generated_ids, skip_special_tokens=True)[0]\n",
    "    return generated_text"
   ]
  },
  {
   "cell_type": "code",
   "execution_count": null,
   "id": "40949dc5-740d-4dca-9297-459c206358f9",
   "metadata": {
    "scrolled": true
   },
   "outputs": [],
   "source": [
    "idx = 4\n",
    "page = dataset.__getXMLitem__(idx)\n",
    "image = cv2.imread(dataset.__getfullname__(idx))\n",
    "c_image = crop_polygon_from_image(image, page['regions'][0]['polygon'])\n",
    "plt.imshow(c_image)\n",
    "plt.show()"
   ]
  },
  {
   "cell_type": "code",
   "execution_count": null,
   "id": "6b0d37fe-9297-46c5-9ffa-4c2c65211ecb",
   "metadata": {},
   "outputs": [],
   "source": [
    "extracted_text = htr(c_image, opts.text_recognize_processor, opts.text_recognize_model, opts.device)\n",
    "print(extracted_text)"
   ]
  },
  {
   "cell_type": "code",
   "execution_count": 10,
   "id": "f0872789-1d97-47cc-b4d8-581ea464bf71",
   "metadata": {},
   "outputs": [
    {
     "name": "stderr",
     "output_type": "stream",
     "text": [
      "/usr/local/lib64/python3.9/site-packages/torch/functional.py:507: UserWarning: torch.meshgrid: in an upcoming release, it will be required to pass the indexing argument. (Triggered internally at ../aten/src/ATen/native/TensorShape.cpp:3549.)\n",
      "  return _VF.meshgrid(tensors, **kwargs)  # type: ignore[attr-defined]\n"
     ]
    }
   ],
   "source": [
    "infolder = \"/scratch/project_2005488/Muutto/Pielavesi\" \n",
    "executeTask = \"cell\"\n",
    "inpage = \"pageTbl\"\n",
    "outpage = \"pageCell\"\n",
    "cfgfile = \"/users/vesalaia/config/config_table_line.ini\"\n",
    "processTask(cfgfile, executeTask, infolder, inpage, outpage)"
   ]
  },
  {
   "cell_type": "code",
   "execution_count": 11,
   "id": "e3c747b8-5c35-41a4-9abd-ffec08c1985a",
   "metadata": {},
   "outputs": [
    {
     "name": "stderr",
     "output_type": "stream",
     "text": [
      "Config of the encoder: <class 'transformers.models.vit.modeling_vit.ViTModel'> is overwritten by shared encoder config: ViTConfig {\n",
      "  \"attention_probs_dropout_prob\": 0.0,\n",
      "  \"encoder_stride\": 16,\n",
      "  \"hidden_act\": \"gelu\",\n",
      "  \"hidden_dropout_prob\": 0.0,\n",
      "  \"hidden_size\": 1024,\n",
      "  \"image_size\": 384,\n",
      "  \"initializer_range\": 0.02,\n",
      "  \"intermediate_size\": 4096,\n",
      "  \"layer_norm_eps\": 1e-12,\n",
      "  \"model_type\": \"vit\",\n",
      "  \"num_attention_heads\": 16,\n",
      "  \"num_channels\": 3,\n",
      "  \"num_hidden_layers\": 24,\n",
      "  \"patch_size\": 16,\n",
      "  \"qkv_bias\": false,\n",
      "  \"transformers_version\": \"4.46.2\"\n",
      "}\n",
      "\n",
      "Config of the decoder: <class 'transformers.models.trocr.modeling_trocr.TrOCRForCausalLM'> is overwritten by shared decoder config: TrOCRConfig {\n",
      "  \"activation_dropout\": 0.0,\n",
      "  \"activation_function\": \"gelu\",\n",
      "  \"add_cross_attention\": true,\n",
      "  \"attention_dropout\": 0.0,\n",
      "  \"bos_token_id\": 0,\n",
      "  \"classifier_dropout\": 0.0,\n",
      "  \"cross_attention_hidden_size\": 1024,\n",
      "  \"d_model\": 1024,\n",
      "  \"decoder_attention_heads\": 16,\n",
      "  \"decoder_ffn_dim\": 4096,\n",
      "  \"decoder_layerdrop\": 0.0,\n",
      "  \"decoder_layers\": 12,\n",
      "  \"decoder_start_token_id\": 2,\n",
      "  \"dropout\": 0.1,\n",
      "  \"eos_token_id\": 2,\n",
      "  \"init_std\": 0.02,\n",
      "  \"is_decoder\": true,\n",
      "  \"layernorm_embedding\": true,\n",
      "  \"max_position_embeddings\": 512,\n",
      "  \"model_type\": \"trocr\",\n",
      "  \"pad_token_id\": 1,\n",
      "  \"scale_embedding\": false,\n",
      "  \"transformers_version\": \"4.46.2\",\n",
      "  \"use_cache\": false,\n",
      "  \"use_learned_position_embeddings\": true,\n",
      "  \"vocab_size\": 50265\n",
      "}\n",
      "\n"
     ]
    }
   ],
   "source": [
    "executeTask = \"cellrecognize\"\n",
    "inpage = \"pageCell\"\n",
    "outpage = \"pageText\"\n",
    "cfgfile = \"/users/vesalaia/config/config_trocr2.ini\"\n",
    "processTask(cfgfile, executeTask, infolder, inpage, outpage)"
   ]
  },
  {
   "cell_type": "code",
   "execution_count": 15,
   "id": "2e25ed22-5a55-4b9b-b836-d6d11b3addb0",
   "metadata": {},
   "outputs": [],
   "source": [
    "executeTask = \"csv\"\n",
    "infolder = \"/scratch/project_2005488/Muutto/Pielavesi\" \n",
    "inpage = \"pageText\"\n",
    "outpage = \"pageCsv\"\n",
    "cfgfile = \"/users/vesalaia/config/config_hd_table.ini\"\n",
    "processTask(cfgfile, executeTask, infolder, inpage, outpage)"
   ]
  },
  {
   "cell_type": "code",
   "execution_count": null,
   "id": "d1652c79-0f33-4def-be08-39a50839b09e",
   "metadata": {},
   "outputs": [],
   "source": [
    "infolder = \"/scratch/project_2005488/Muutto/man-ds-test1-all-printed\" \n",
    "executeTask = \"cell\"\n",
    "inpage = \"pageTbl\"\n",
    "outpage = \"pageCell\"\n",
    "cfgfile = \"/users/vesalaia/config/config_table_line.ini\"\n",
    "processTask(cfgfile, executeTask, infolder, inpage, outpage)\n",
    "#\n",
    "\n",
    "\n"
   ]
  },
  {
   "cell_type": "code",
   "execution_count": null,
   "id": "dd521361-8a7b-4553-9195-371492f2ecef",
   "metadata": {},
   "outputs": [],
   "source": [
    "infolder = \"/scratch/project_2005488/Muutto/sample10-all-printed\" \n",
    "executeTask = \"cell\"\n",
    "inpage = \"pageTbl\"\n",
    "outpage = \"pageCell\"\n",
    "cfgfile = \"/users/vesalaia/config/config_table_line.ini\"\n",
    "processTask(cfgfile, executeTask, infolder, inpage, outpage)\n",
    "#\n",
    "print_time()"
   ]
  },
  {
   "cell_type": "code",
   "execution_count": null,
   "id": "accc9124-2517-48c2-907f-19e2cf8f1b0b",
   "metadata": {},
   "outputs": [],
   "source": [
    "infolder = \"/scratch/project_2005488/Muutto/sample5-all-printed\" \n",
    "\n",
    "executeTask = \"init\"\n",
    "inpage = \"\"\n",
    "outpage = \"page\"\n",
    "cfgfile = \"/users/vesalaia/config/config_table_275.ini\"\n",
    "processTask(cfgfile, executeTask, infolder, inpage, outpage)\n",
    "\n",
    "executeTask = \"table\"\n",
    "inpage = \"page\"\n",
    "outpage = \"pageTbl2\"\n",
    "cfgfile = \"/users/vesalaia/config/config_table_275.ini\"\n",
    "processTask(cfgfile, executeTask, infolder, inpage, outpage)\n",
    "#"
   ]
  },
  {
   "cell_type": "code",
   "execution_count": null,
   "id": "5c2cbf81-a5b4-4b71-bd37-0e6b1cffe7b1",
   "metadata": {},
   "outputs": [],
   "source": [
    "infolder = \"/scratch/project_2005488/Muutto/sample6-all-printed\" \n",
    "\n",
    "executeTask = \"init\"\n",
    "inpage = \"\"\n",
    "outpage = \"page\"\n",
    "cfgfile = \"/users/vesalaia/config/config_table_275.ini\"\n",
    "processTask(cfgfile, executeTask, infolder, inpage, outpage)\n",
    "\n",
    "executeTask = \"table\"\n",
    "inpage = \"page\"\n",
    "outpage = \"pageTbl2\"\n",
    "cfgfile = \"/users/vesalaia/config/config_table_275.ini\"\n",
    "processTask(cfgfile, executeTask, infolder, inpage, outpage)\n",
    "#"
   ]
  },
  {
   "cell_type": "code",
   "execution_count": null,
   "id": "7cea0600-d4fc-4747-8880-d2f1e15dcbbf",
   "metadata": {},
   "outputs": [],
   "source": [
    "infolder = \"/scratch/project_2005488/Muutto/sample7-all-printed\" \n",
    "\n",
    "executeTask = \"init\"\n",
    "inpage = \"\"\n",
    "outpage = \"page\"\n",
    "cfgfile = \"/users/vesalaia/config/config_table_275.ini\"\n",
    "processTask(cfgfile, executeTask, infolder, inpage, outpage)\n",
    "\n",
    "executeTask = \"table\"\n",
    "inpage = \"page\"\n",
    "outpage = \"pageTbl2\"\n",
    "cfgfile = \"/users/vesalaia/config/config_table_275.ini\"\n",
    "processTask(cfgfile, executeTask, infolder, inpage, outpage)\n",
    "#"
   ]
  },
  {
   "cell_type": "code",
   "execution_count": null,
   "id": "aee6d2cf-0310-4caa-820f-8ec5ac0ffe8f",
   "metadata": {},
   "outputs": [],
   "source": [
    "infolder = \"/scratch/project_2005488/Muutto/sample8-all-printed\" \n",
    "\n",
    "executeTask = \"init\"\n",
    "inpage = \"\"\n",
    "outpage = \"page\"\n",
    "cfgfile = \"/users/vesalaia/config/config_table_275.ini\"\n",
    "processTask(cfgfile, executeTask, infolder, inpage, outpage)\n",
    "\n",
    "executeTask = \"table\"\n",
    "inpage = \"page\"\n",
    "outpage = \"pageTbl2\"\n",
    "cfgfile = \"/users/vesalaia/config/config_table_275.ini\"\n",
    "processTask(cfgfile, executeTask, infolder, inpage, outpage)\n",
    "#"
   ]
  },
  {
   "cell_type": "code",
   "execution_count": null,
   "id": "95deb63b-b4a4-48fc-a1d6-4dd93987bce8",
   "metadata": {},
   "outputs": [],
   "source": [
    "print_time()\n",
    "infolder = \"/scratch/project_2005488/Muutto/sample10-all-printed\" \n",
    "\n",
    "executeTask = \"init\"\n",
    "inpage = \"\"\n",
    "outpage = \"page\"\n",
    "cfgfile = \"/users/vesalaia/config/config_table_275.ini\"\n",
    "processTask(cfgfile, executeTask, infolder, inpage, outpage)\n",
    "\n",
    "executeTask = \"table\"\n",
    "inpage = \"page\"\n",
    "outpage = \"pageTbl2\"\n",
    "cfgfile = \"/users/vesalaia/config/config_table_275.ini\"\n",
    "processTask(cfgfile, executeTask, infolder, inpage, outpage)\n",
    "#\n",
    "executeTask = \"table\"\n",
    "inpage = \"page\"\n",
    "outpage = \"pageTbl3\"\n",
    "cfgfile = \"/users/vesalaia/config/config_table_373.ini\"\n",
    "processTask(cfgfile, executeTask, infolder, inpage, outpage)\n",
    "#\n",
    "\n",
    "print_time()\n",
    "executeTask = \"table\"\n",
    "inpage = \"page\"\n",
    "outpage = \"pageTbl4\"\n",
    "cfgfile = \"/users/vesalaia/config/config_table_1100.ini\"\n",
    "processTask(cfgfile, executeTask, infolder, inpage, outpage)\n",
    "#\n",
    "print_time()\n",
    "executeTask = \"table\"\n",
    "inpage = \"page\"\n",
    "outpage = \"pageTbl5\"\n",
    "cfgfile = \"/users/vesalaia/config/config_table_1492.ini\"\n",
    "processTask(cfgfile, executeTask, infolder, inpage, outpage)\n",
    "\n"
   ]
  },
  {
   "cell_type": "code",
   "execution_count": null,
   "id": "1ae57432-9f7d-4a45-ae4a-cd65c5c48e77",
   "metadata": {},
   "outputs": [],
   "source": [
    "print_time()\n",
    "executeTask = \"init\"\n",
    "infolder = \"/scratch/project_2005488/Muutto/skewed\" \n",
    "inpage = \"\"\n",
    "outpage = \"page\"\n",
    "cfgfile = \"/users/vesalaia/config/config_table_1492.ini\"\n",
    "processTask(cfgfile, executeTask, infolder, inpage, outpage)\n",
    "#\n",
    "print_time()\n",
    "executeTask = \"table\"\n",
    "inpage = \"page\"\n",
    "outpage = \"pageTbl\"\n",
    "cfgfile = \"/users/vesalaia/config/config_table_1492.ini\"\n",
    "processTask(cfgfile, executeTask, infolder, inpage, outpage)\n",
    "#\n",
    "print_time()\n",
    "executeTask = \"cell\"\n",
    "inpage = \"pageTbl\"\n",
    "outpage = \"pageCell\"\n",
    "cfgfile = \"/users/vesalaia/config/config_table_1492.ini\"\n",
    "processTask(cfgfile, executeTask, infolder, inpage, outpage)\n",
    "#\n",
    "print_time()\n",
    "\n",
    "executeTask = \"cellrecognize\"\n",
    "inpage = \"pageCell\"\n",
    "outpage = \"pageText\"\n",
    "cfgfile = \"/users/vesalaia/config/config_trocr.ini\"\n",
    "processTask(cfgfile, executeTask, infolder, inpage, outpage)\n",
    "print_time()"
   ]
  },
  {
   "cell_type": "code",
   "execution_count": null,
   "id": "a8140cef-71d5-454d-a838-179efc40d035",
   "metadata": {},
   "outputs": [],
   "source": [
    "print_time()\n",
    "executeTask = \"init\"\n",
    "infolder = \"/scratch/project_2005488/Muutto/deskewed\" \n",
    "inpage = \"\"\n",
    "outpage = \"page\"\n",
    "cfgfile = \"/users/vesalaia/config/config_table_1492.ini\"\n",
    "processTask(cfgfile, executeTask, infolder, inpage, outpage)\n",
    "#\n",
    "print_time()\n",
    "executeTask = \"table\"\n",
    "inpage = \"page\"\n",
    "outpage = \"pageTbl\"\n",
    "cfgfile = \"/users/vesalaia/config/config_table_1492.ini\"\n",
    "processTask(cfgfile, executeTask, infolder, inpage, outpage)\n",
    "#\n",
    "print_time()\n",
    "executeTask = \"cell\"\n",
    "inpage = \"pageTbl\"\n",
    "outpage = \"pageCell\"\n",
    "cfgfile = \"/users/vesalaia/config/config_table_1492.ini\"\n",
    "processTask(cfgfile, executeTask, infolder, inpage, outpage)\n",
    "#\n",
    "print_time()\n",
    "\n",
    "executeTask = \"cellrecognize\"\n",
    "inpage = \"pageCell\"\n",
    "outpage = \"pageText\"\n",
    "cfgfile = \"/users/vesalaia/config/config_trocr.ini\"\n",
    "processTask(cfgfile, executeTask, infolder, inpage, outpage)\n",
    "print_time()"
   ]
  },
  {
   "cell_type": "code",
   "execution_count": null,
   "id": "a094bac5-c221-4bcb-9f6f-2b1126b0c6e2",
   "metadata": {},
   "outputs": [],
   "source": [
    "print_time()\n",
    "executeTask = \"init\"\n",
    "infolder = \"/scratch/project_2005488/Muutto/sample9-all-printed\" \n",
    "inpage = \"\"\n",
    "outpage = \"page2\"\n",
    "cfgfile = \"/users/vesalaia/config/config_table.ini\"\n",
    "processTask(cfgfile, executeTask, infolder, inpage, outpage)\n",
    "#\n",
    "print_time()\n",
    "executeTask = \"table\"\n",
    "inpage = \"page2\"\n",
    "outpage = \"pageTbl\"\n",
    "cfgfile = \"/users/vesalaia/config/config_table.ini\"\n",
    "processTask(cfgfile, executeTask, infolder, inpage, outpage)\n",
    "#\n",
    "#print_time()\n",
    "#executeTask = \"cell\"\n",
    "#inpage = \"pageTbl\"\n",
    "#outpage = \"pageCell\"\n",
    "#cfgfile = \"/users/vesalaia/config/config_table.ini\"\n",
    "#processTask(cfgfile, executeTask, infolder, inpage, outpage)\n",
    "#\n",
    "#print_time()\n",
    "\n",
    "#executeTask = \"cellrecognize\"\n",
    "#inpage = \"pageCell\"\n",
    "#outpage = \"pageText\"\n",
    "#cfgfile = \"/users/vesalaia/config/config_trocr.ini\"\n",
    "#processTask(cfgfile, executeTask, infolder, inpage, outpage)\n",
    "#rint_time()"
   ]
  },
  {
   "cell_type": "code",
   "execution_count": null,
   "id": "487ab901-0043-4105-b162-0c6b26c059f3",
   "metadata": {},
   "outputs": [],
   "source": [
    "print_time()\n",
    "executeTask = \"init\"\n",
    "infolder = \"/scratch/project_2005488/Muutto/sample6-all-printed\" \n",
    "inpage = \"\"\n",
    "outpage = \"page\"\n",
    "cfgfile = \"/users/vesalaia/config/config_table.ini\"\n",
    "processTask(cfgfile, executeTask, infolder, inpage, outpage)\n",
    "#\n",
    "print_time()\n",
    "executeTask = \"table\"\n",
    "inpage = \"page\"\n",
    "outpage = \"pageTbl\"\n",
    "cfgfile = \"/users/vesalaia/config/config_table.ini\"\n",
    "processTask(cfgfile, executeTask, infolder, inpage, outpage)\n",
    "#\n",
    "print_time()\n",
    "executeTask = \"cell\"\n",
    "inpage = \"pageTbl\"\n",
    "outpage = \"pageCell\"\n",
    "cfgfile = \"/users/vesalaia/config/config_table.ini\"\n",
    "processTask(cfgfile, executeTask, infolder, inpage, outpage)\n",
    "#\n",
    "print_time()\n",
    "\n",
    "executeTask = \"cellrecognize\"\n",
    "inpage = \"pageCell\"\n",
    "outpage = \"pageText\"\n",
    "cfgfile = \"/users/vesalaia/config/config_trocr.ini\"\n",
    "processTask(cfgfile, executeTask, infolder, inpage, outpage)\n",
    "print_time()"
   ]
  },
  {
   "cell_type": "code",
   "execution_count": null,
   "id": "bb3ffa6d-a111-4494-bd4b-23b18da13075",
   "metadata": {},
   "outputs": [],
   "source": [
    "print_time()\n",
    "executeTask = \"init\"\n",
    "infolder = \"/scratch/project_2005488/Muutto/sample7-all-printed\" \n",
    "inpage = \"\"\n",
    "outpage = \"page\"\n",
    "cfgfile = \"/users/vesalaia/config/config_table.ini\"\n",
    "processTask(cfgfile, executeTask, infolder, inpage, outpage)\n",
    "#\n",
    "print_time()\n",
    "executeTask = \"table\"\n",
    "inpage = \"page\"\n",
    "outpage = \"pageTbl\"\n",
    "cfgfile = \"/users/vesalaia/config/config_table.ini\"\n",
    "processTask(cfgfile, executeTask, infolder, inpage, outpage)\n",
    "#\n",
    "print_time()\n",
    "executeTask = \"cell\"\n",
    "inpage = \"pageTbl\"\n",
    "outpage = \"pageCell\"\n",
    "cfgfile = \"/users/vesalaia/config/config_table.ini\"\n",
    "processTask(cfgfile, executeTask, infolder, inpage, outpage)\n",
    "#\n",
    "print_time()\n",
    "\n",
    "executeTask = \"cellrecognize\"\n",
    "inpage = \"pageCell\"\n",
    "outpage = \"pageText\"\n",
    "cfgfile = \"/users/vesalaia/config/config_trocr.ini\"\n",
    "processTask(cfgfile, executeTask, infolder, inpage, outpage)\n",
    "print_time()"
   ]
  },
  {
   "cell_type": "code",
   "execution_count": null,
   "id": "9440de62-5eae-4b6c-9565-742736820eec",
   "metadata": {},
   "outputs": [],
   "source": []
  },
  {
   "cell_type": "code",
   "execution_count": null,
   "id": "e2546202-265c-404f-97dd-6282b8c7b2c3",
   "metadata": {},
   "outputs": [],
   "source": []
  },
  {
   "cell_type": "code",
   "execution_count": null,
   "id": "ae6d96d6-5bca-4b61-b817-1a2310d41c35",
   "metadata": {},
   "outputs": [],
   "source": []
  },
  {
   "cell_type": "code",
   "execution_count": null,
   "id": "bb7c12de-6e89-488c-bcaf-0e3888d86bec",
   "metadata": {},
   "outputs": [],
   "source": [
    "executeTask = \"init\"\n",
    "infolder = \"/scratch/project_2005488/Muutto/sample9-all-printed\" \n",
    "inpage = \"\"\n",
    "outpage = \"pageTest\"\n",
    "cfgfile = \"/users/vesalaia/config/config_table.ini\"\n",
    "processTask(cfgfile, executeTask, infolder, inpage, outpage)\n",
    "#\n",
    "executeTask = \"table\"\n",
    "infolder = \"/scratch/project_2005488/Muutto/sample9-all-printed\" \n",
    "inpage = \"pageTest\"\n",
    "outpage = \"pageTbl\"\n",
    "cfgfile = \"/users/vesalaia/config/config_table.ini\"\n",
    "processTask(cfgfile, executeTask, infolder, inpage, outpage)\n"
   ]
  },
  {
   "cell_type": "code",
   "execution_count": null,
   "id": "1982b4d4-9c13-4fcf-a281-b51463bfab50",
   "metadata": {},
   "outputs": [],
   "source": [
    "print_time()\n",
    "executeTask = \"cellrecognize\"\n",
    "infolder = \"/scratch/project_2005488/Muutto/sample3-all-printed\" \n",
    "inpage = \"pageCell\"\n",
    "outpage = \"pageText2\"\n",
    "cfgfile = \"/users/vesalaia/config/config_trocr.ini\"\n",
    "processTask(cfgfile, executeTask, infolder, inpage, outpage)\n",
    "print_time()"
   ]
  },
  {
   "cell_type": "code",
   "execution_count": null,
   "id": "0a67191e-ee39-4c72-8a8c-59e00881398e",
   "metadata": {},
   "outputs": [],
   "source": []
  },
  {
   "cell_type": "code",
   "execution_count": null,
   "id": "1b6ef583-fdee-4d06-b844-653b6180f281",
   "metadata": {},
   "outputs": [],
   "source": [
    "executeTask = \"cellrecognize\"\n",
    "infolder = \"/scratch/project_2005488/Muutto/Test\"  \n",
    "inpage = \"pageCell\"\n",
    "outpage = \"pageText\"\n",
    "cfgfile = \"/users/vesalaia/config/config_trocr.ini\"\n",
    "processTask(cfgfile, executeTask, infolder, inpage, outpage)"
   ]
  },
  {
   "cell_type": "code",
   "execution_count": null,
   "id": "22f6538e-e03e-4328-bdc6-79c170949424",
   "metadata": {},
   "outputs": [],
   "source": [
    "print_time()\n",
    "executeTask = \"cellrecognize\"\n",
    "infolder = \"/scratch/project_2005488/Muutto/Test\" \n",
    "inpage = \"pageCell\"\n",
    "outpage = \"pageText\"\n",
    "cfgfile = \"/users/vesalaia/config/config_trocr.ini\"\n",
    "processTask(cfgfile, executeTask, infolder, inpage, outpage)\n",
    "print_time()"
   ]
  },
  {
   "cell_type": "code",
   "execution_count": null,
   "id": "9feab4c9-9b7a-4da6-a598-1e962edb306b",
   "metadata": {},
   "outputs": [],
   "source": []
  },
  {
   "cell_type": "code",
   "execution_count": null,
   "id": "6eacf4f9-a707-4451-85cc-ee4f858f0084",
   "metadata": {},
   "outputs": [],
   "source": []
  },
  {
   "cell_type": "code",
   "execution_count": null,
   "id": "4d0ee2be-8af8-4b8a-b1f7-50e166df798b",
   "metadata": {},
   "outputs": [],
   "source": []
  },
  {
   "cell_type": "code",
   "execution_count": null,
   "id": "1aa80820-4420-4140-82d1-9243d52b2293",
   "metadata": {},
   "outputs": [],
   "source": []
  },
  {
   "cell_type": "code",
   "execution_count": null,
   "id": "1ecb0bba-e4bb-470d-9bd9-4d14447dd388",
   "metadata": {},
   "outputs": [],
   "source": [
    "print_time()\n",
    "executeTask = \"init\"\n",
    "infolder = \"/scratch/project_2005488/Muutto/debug\" \n",
    "inpage = \"\"\n",
    "outpage = \"page\"\n",
    "cfgfile = \"/users/vesalaia/config/config_table.ini\"\n",
    "processTask(cfgfile, executeTask, infolder, inpage, outpage)\n",
    "#\n",
    "print_time()\n",
    "executeTask = \"table\"\n",
    "inpage = \"page\"\n",
    "outpage = \"pageTbl\"\n",
    "cfgfile = \"/users/vesalaia/config/config_table.ini\"\n",
    "processTask(cfgfile, executeTask, infolder, inpage, outpage)\n",
    "#\n",
    "print_time()\n",
    "executeTask = \"cell\"\n",
    "inpage = \"pageTbl\"\n",
    "outpage = \"pageCell\"\n",
    "cfgfile = \"/users/vesalaia/config/config_table.ini\"\n",
    "processTask(cfgfile, executeTask, infolder, inpage, outpage)\n",
    "#\n",
    "print_time()\n",
    "\n"
   ]
  },
  {
   "cell_type": "code",
   "execution_count": null,
   "id": "afbbc8c8-f313-4c2d-bfdf-a7152ef7be8f",
   "metadata": {},
   "outputs": [],
   "source": [
    "executeTask = \"cellrecognize\"\n",
    "infolder = \"/scratch/project_2005488/Muutto/debug\" \n",
    "inpage = \"pageCell\"\n",
    "outpage = \"pageText\"\n",
    "cfgfile = \"/users/vesalaia/config/config_trocr.ini\"\n",
    "processTask(cfgfile, executeTask, infolder, inpage, outpage)\n",
    "print_time()"
   ]
  },
  {
   "cell_type": "code",
   "execution_count": null,
   "id": "8cc3773f-bcbf-4aae-8653-b4e60c456ba7",
   "metadata": {},
   "outputs": [],
   "source": [
    "inpage = \"pageText\"\n",
    "dataset_files = [[infolder, os.path.join(infolder, inpage)]]\n",
    "dataset = OCRDatasetInstanceSeg(dataset_files, {})"
   ]
  },
  {
   "cell_type": "code",
   "execution_count": null,
   "id": "2554c09e-33e5-476a-9c31-7dc31d35ece7",
   "metadata": {},
   "outputs": [],
   "source": [
    "page = dataset.__getXMLitem__(0)"
   ]
  },
  {
   "cell_type": "code",
   "execution_count": null,
   "id": "76a15b4d-f82f-43cb-b185-7fc2d60cea70",
   "metadata": {},
   "outputs": [],
   "source": [
    "page"
   ]
  },
  {
   "cell_type": "code",
   "execution_count": null,
   "id": "82ea62c4-16ce-46cc-b679-8ca914ca8695",
   "metadata": {},
   "outputs": [],
   "source": []
  }
 ],
 "metadata": {
  "kernelspec": {
   "display_name": "Python 3 (ipykernel)",
   "language": "python",
   "name": "python3"
  },
  "language_info": {
   "codemirror_mode": {
    "name": "ipython",
    "version": 3
   },
   "file_extension": ".py",
   "mimetype": "text/x-python",
   "name": "python",
   "nbconvert_exporter": "python",
   "pygments_lexer": "ipython3",
   "version": "3.9.18"
  }
 },
 "nbformat": 4,
 "nbformat_minor": 5
}
