{
 "cells": [
  {
   "cell_type": "code",
   "execution_count": 1,
   "id": "2bf7e4dc",
   "metadata": {},
   "outputs": [],
   "source": [
    "import argparse\n",
    "import os\n",
    "import sys\n",
    "sys.path.append('C:/Users/arive/pipelinev2')\n",
    "import matplotlib.pyplot as plt\n",
    "import cv2\n",
    "from PIL import Image,ImageDraw"
   ]
  },
  {
   "cell_type": "code",
   "execution_count": 2,
   "id": "3ef4da56",
   "metadata": {},
   "outputs": [
    {
     "name": "stderr",
     "output_type": "stream",
     "text": [
      "scikit-learn version 1.4.1.post1 is not supported. Minimum required version: 0.17. Maximum required version: 1.1.2. Disabling scikit-learn conversion API.\n",
      "XGBoost version 2.0.3 has not been tested with coremltools. You may run into unexpected errors. XGBoost 1.4.2 is the most recent version that has been tested.\n",
      "Torch version 2.2.1+cu121 has not been tested with coremltools. You may run into unexpected errors. Torch 1.13.1 is the most recent version that has been tested.\n"
     ]
    }
   ],
   "source": [
    "from config.options import Options\n",
    "\n",
    "from data.dataset import OCRDatasetInstanceSeg\n",
    "from XML.createXML import XMLData"
   ]
  },
  {
   "cell_type": "code",
   "execution_count": null,
   "id": "c60c76c5",
   "metadata": {},
   "outputs": [],
   "source": []
  },
  {
   "cell_type": "code",
   "execution_count": 3,
   "id": "8b71f2ed",
   "metadata": {},
   "outputs": [
    {
     "name": "stdout",
     "output_type": "stream",
     "text": [
      "Execution Section found\n",
      "Table Section found\n"
     ]
    }
   ],
   "source": [
    "cfgfile = \"C:/Users/arive/config/config_table.ini\"\n",
    "#cfgfile = \"/users/vesalaia/config/config_mask_line.ini\"\n",
    "opts =  Options(cfgfile)"
   ]
  },
  {
   "cell_type": "markdown",
   "id": "abab134f-0494-4ae0-a524-c22bcea3f7fe",
   "metadata": {},
   "source": [
    "### 275 images"
   ]
  },
  {
   "cell_type": "code",
   "execution_count": 21,
   "id": "de70682f-d21a-4bce-89ac-e672c58775e9",
   "metadata": {},
   "outputs": [
    {
     "name": "stdout",
     "output_type": "stream",
     "text": [
      "275\n"
     ]
    }
   ],
   "source": []
  },
  {
   "cell_type": "markdown",
   "id": "ef352fee-a324-40e4-8180-e47dc3bfb96b",
   "metadata": {},
   "source": [
    "### 825"
   ]
  },
  {
   "cell_type": "code",
   "execution_count": 18,
   "id": "2c62517e-3a1c-41e0-99d8-7cb8456a2c38",
   "metadata": {},
   "outputs": [
    {
     "name": "stdout",
     "output_type": "stream",
     "text": [
      "825\n"
     ]
    }
   ],
   "source": [
    "dataset_files = [\n",
    "    [\"C:/Users/arive/Datasets/Muutot/sample_all_printed_1\", \"C:/Users/arive/Datasets/Muutot/sample_all_printed_1/page\"],\n",
    "    [\"C:/Users/arive/Datasets/Muutot/sample_all_printed_2a\", \"C:/Users/arive/Datasets/Muutot/sample_all_printed_2a/page\"],\n",
    "    [\"C:/Users/arive/Datasets/Muutot/sample_all_printed_2b\", \"C:/Users/arive/Datasets/Muutot/sample_all_printed_2b/page\"],\n",
    "    [\"C:/Users/arive/Datasets/Muutot/sample_all_printed_2c\", \"C:/Users/arive/Datasets/Muutot/sample_all_printed_2c/page\"],\n",
    "    [\"C:/Users/arive/Datasets/Muutot/rotated2-5\", \"C:/Users/arive/Datasets/Muutot/rotated-5/page\"],\n",
    "    [\"C:/Users/arive/Datasets/Muutot/rotated2-10\", \"C:/Users/arive/Datasets/Muutot/rotated-10/page\"],\n",
    "    [\"C:/Users/arive/Datasets/Muutot/rotated25\", \"C:/Users/arive/Datasets/Muutot/rotated10/page\"],\n",
    "]\n",
    "\n",
    "dataset = OCRDatasetInstanceSeg(dataset_files, {})\n",
    "print(dataset.__len__())"
   ]
  },
  {
   "cell_type": "markdown",
   "id": "d9b4f5e5-11f8-4b4a-a292-b859e0fbf7f2",
   "metadata": {},
   "source": [
    "### 373"
   ]
  },
  {
   "cell_type": "code",
   "execution_count": 17,
   "id": "97903534-6490-470e-9fc9-eb071b4f7ef4",
   "metadata": {},
   "outputs": [
    {
     "name": "stdout",
     "output_type": "stream",
     "text": [
      "373\n"
     ]
    }
   ],
   "source": []
  },
  {
   "cell_type": "markdown",
   "id": "a3c9f13f-3189-4f33-8a89-afe6337c3861",
   "metadata": {},
   "source": [
    "### 1492"
   ]
  },
  {
   "cell_type": "code",
   "execution_count": 19,
   "id": "3da1f300-677d-41eb-bab0-2a53fd1309b3",
   "metadata": {},
   "outputs": [
    {
     "name": "stdout",
     "output_type": "stream",
     "text": [
      "1492\n"
     ]
    }
   ],
   "source": [
    "dataset_files = [\n",
    "    [\"C:/Users/arive/Datasets/Muutot/sample_all_printed_1\", \"C:/Users/arive/Datasets/Muutot/sample_all_printed_1/page\"],\n",
    "    [\"C:/Users/arive/Datasets/Muutot/sample_all_printed_2a\", \"C:/Users/arive/Datasets/Muutot/sample_all_printed_2a/page\"],\n",
    "    [\"C:/Users/arive/Datasets/Muutot/sample_all_printed_2b\", \"C:/Users/arive/Datasets/Muutot/sample_all_printed_2b/page\"],\n",
    "    [\"C:/Users/arive/Datasets/Muutot/sample_all_printed_2c\", \"C:/Users/arive/Datasets/Muutot/sample_all_printed_2c/page\"],\n",
    "    [\"C:/Users/arive/Datasets/Muutot/sample9-all-printed\", \"C:/Users/arive/Datasets/Muutot/sample9-all-printed/page\"],\n",
    "    [\"C:/Users/arive/Datasets/Muutot/rotated2-5\", \"C:/Users/arive/Datasets/Muutot/rotated2-5/page\"],\n",
    "    [\"C:/Users/arive/Datasets/Muutot/rotated2-10\", \"C:/Users/arive/Datasets/Muutot/rotated2-10/page\"],\n",
    "    [\"C:/Users/arive/Datasets/Muutot/rotated25\", \"C:/Users/arive/Datasets/Muutot/rotated25/page\"],\n",
    "]\n",
    "\n",
    "dataset = OCRDatasetInstanceSeg(dataset_files, {})\n",
    "print(dataset.__len__())"
   ]
  },
  {
   "cell_type": "code",
   "execution_count": null,
   "id": "29660ae3-4905-4f5c-a02f-a6bf845db7a3",
   "metadata": {},
   "outputs": [],
   "source": []
  },
  {
   "cell_type": "code",
   "execution_count": null,
   "id": "687d8c8e-fe56-49d3-a407-cfd859ecde28",
   "metadata": {},
   "outputs": [],
   "source": []
  },
  {
   "cell_type": "code",
   "execution_count": null,
   "id": "14842850-2865-42e2-8d0a-84824b370e63",
   "metadata": {},
   "outputs": [],
   "source": []
  },
  {
   "cell_type": "code",
   "execution_count": 7,
   "id": "4d104c52",
   "metadata": {},
   "outputs": [],
   "source": [
    "dataset_files = [\n",
    "    [\"C:/Users/arive/Datasets/Muutot/sample_all_printed_1\", \"C:/Users/arive/Datasets/Muutot/sample_all_printed_1/page\"],\n",
    "    [\"C:/Users/arive/Datasets/Muutot/sample_all_printed_2a\", \"C:/Users/arive/Datasets/Muutot/sample_all_printed_2a/page\"],\n",
    "    [\"C:/Users/arive/Datasets/Muutot/sample_all_printed_2b\", \"C:/Users/arive/Datasets/Muutot/sample_all_printed_2b/page\"],\n",
    "    [\"C:/Users/arive/Datasets/Muutot/sample_all_printed_2c\", \"C:/Users/arive/Datasets/Muutot/sample_all_printed_2c/page\"],\n",
    "    [\"C:/Users/arive/Datasets/Muutot/sample9-all-printed\", \"C:/Users/arive/Datasets/Muutot/sample9-all-printed/page\"],\n",
    "    [\"C:/Users/arive/Datasets/Muutot/rotated2-5\", \"C:/Users/arive/Datasets/Muutot/rotated2-5/page\"],\n",
    "    [\"C:/Users/arive/Datasets/Muutot/rotated2-10\", \"C:/Users/arive/Datasets/Muutot/rotated2-10/page\"],\n",
    "    [\"C:/Users/arive/Datasets/Muutot/rotated25\", \"C:/Users/arive/Datasets/Muutot/rotated25/page\"],\n",
    " \n",
    "]\n",
    "\n",
    "dataset = OCRDatasetInstanceSeg(dataset_files, {})"
   ]
  },
  {
   "cell_type": "code",
   "execution_count": 20,
   "id": "89cd26ce-1ef9-4a7f-bbde-8c0f82b635a6",
   "metadata": {},
   "outputs": [
    {
     "name": "stdout",
     "output_type": "stream",
     "text": [
      "91\n"
     ]
    }
   ],
   "source": [
    "dataset_files = [\n",
    "    [\"C:/Users/arive/Datasets/Muutot/sample10-all-printed\", \"C:/Users/arive/Datasets/Muutot/sample10-all-printed/page\"] \n",
    "]\n",
    "\n",
    "dataset = OCRDatasetInstanceSeg(dataset_files, {})\n",
    "print(dataset.__len__())"
   ]
  },
  {
   "cell_type": "code",
   "execution_count": 5,
   "id": "474dc805",
   "metadata": {},
   "outputs": [
    {
     "data": {
      "text/plain": [
       "91"
      ]
     },
     "execution_count": 5,
     "metadata": {},
     "output_type": "execute_result"
    }
   ],
   "source": [
    "dataset.__len__()"
   ]
  },
  {
   "cell_type": "code",
   "execution_count": 10,
   "id": "278cf036-c40d-4749-b427-a0290cfede26",
   "metadata": {},
   "outputs": [],
   "source": [
    "def plot_page_with_regions(image_path, page):\n",
    "    # Read the image\n",
    "    thickness = 5\n",
    "    point_radius = 10\n",
    "    cell_colour = (0, 0, 255)\n",
    "    image = cv2.imread(image_path)\n",
    "    \n",
    "    if image is None:\n",
    "        raise ValueError(f\"Image not found at the path: {image_path}\")\n",
    "    \n",
    "    # Convert vertices to a numpy array\n",
    "#    print(len(page['regions']),page['regions'])\n",
    "    for reg in page['regions']:\n",
    "        if reg['regiontype'] == \"TableRegion\":\n",
    "            region_colour = (0, 0, 0)\n",
    "        elif reg['regiontype'] == \"TextRegion\":\n",
    "            region_colour = (0, 255, 0)\n",
    "        \n",
    "        for cell in reg['table']:\n",
    "            xmax, ymax = cell['polygon'].max(axis=0)\n",
    "            xmin, ymin = cell['polygon'].min(axis=0)\n",
    "            cell_left_top = (xmin, ymin)\n",
    "            cell_left_bottom = (xmin, ymax)\n",
    "            cell_right_top = (xmax, ymin)\n",
    "            cell_right_bottom = (xmax, ymax)\n",
    "            cv2.circle(image, cell_left_top, radius=point_radius, color=cell_colour)            \n",
    "            cv2.circle(image, cell_left_bottom, radius=point_radius, color=cell_colour)            \n",
    "            cv2.circle(image, cell_right_top, radius=point_radius, color=cell_colour)            \n",
    "            cv2.circle(image, cell_right_bottom, radius=point_radius, color=cell_colour)            \n",
    "        pts = reg['polygon']\n",
    "        cv2.polylines(image, [pts], isClosed=True, color=region_colour, thickness=thickness)\n",
    "            \n",
    "    # Convert BGR to RGB for displaying with matplotlib\n",
    "    image_rgb = cv2.cvtColor(image, cv2.COLOR_BGR2RGB)\n",
    "    \n",
    "    # Plot the image\n",
    "    plt.figure(figsize=(10, 10))\n",
    "    plt.imshow(image_rgb)\n",
    "    plt.axis('off')  # Hide axis\n",
    "    plt.show()\n"
   ]
  },
  {
   "cell_type": "code",
   "execution_count": 11,
   "id": "9d5b4527-4f92-4b90-9e2f-189029c2d9f4",
   "metadata": {},
   "outputs": [],
   "source": [
    "annotations = {'background': 0, 'title': 1, \"header\": 2, \"cell\": 3}\n",
    "\n",
    "def createYOLOsegmentCell(dataset, yolo_path, selection, imgsz=(640,640)):\n",
    "    if not os.path.exists(yolo_path):\n",
    "        os.makedirs(yolo_path)\n",
    "    if not os.path.exists(os.path.join(yolo_path, \"images\")):\n",
    "        os.makedirs(os.path.join(yolo_path, \"images\"))\n",
    "    if not os.path.exists(os.path.join(yolo_path, \"labels\")):\n",
    "        os.makedirs(os.path.join(yolo_path, \"labels\"))\n",
    "    for idx in selection:\n",
    "        source, size = dataset.__getsize__(idx)\n",
    "        destination = f\"{yolo_path}/images/img{idx}.jpg\"\n",
    "        img = cv2.imread(source)\n",
    "        resized_img = cv2.resize(img, imgsz)\n",
    "        cv2.imwrite(destination, resized_img)\n",
    "    for idx in selection:\n",
    "        name, size = dataset.__getsize__(idx)\n",
    "        image_width = size[1]\n",
    "        image_height = size[0]\n",
    "        page = dataset.__getXMLitem__(idx)\n",
    "        if len(page['regions']) > 0:\n",
    "            file_object = open(f\"{yolo_path}/labels/img{idx}.txt\", \"w\")\n",
    "            regions = []\n",
    "            for i, reg in enumerate(page['regions']):\n",
    "                n_reg = {}\n",
    "                n_reg['index'] = i\n",
    "                xmax, ymax = reg['polygon'].max(axis=0)\n",
    "                xmin, ymin = reg['polygon'].min(axis=0)\n",
    "                n_reg['topcorner'] = (xmin, ymin)\n",
    "                regions.append(n_reg)\n",
    "            s_regions = sorted(regions, key=lambda x: (x['topcorner'][1], x['topcorner'][0]), reverse=False)\n",
    "            if len(page['regions']) == 3:\n",
    "                category = annotations['title']\n",
    "                seg = page['regions'][s_regions[0]['index']]['polygon'].flatten().tolist()\n",
    "                result = [num / image_width if i % 2 == 0 else num /image_height  for i, num in enumerate(seg)]\n",
    "                reg_coords = \"\"\n",
    "                for coord in result:\n",
    "                    reg_coords = reg_coords + \" {}\".format(str(coord))\n",
    "                file_object.write(f\"{category} {reg_coords}\\n\")                    \n",
    "\n",
    "                category = annotations['header']\n",
    "                seg = page['regions'][s_regions[1]['index']]['polygon'].flatten().tolist()\n",
    "                result = [num / image_width if i % 2 == 0 else num /image_height  for i, num in enumerate(seg)]\n",
    "                reg_coords = \"\"\n",
    "                for coord in result:\n",
    "                    reg_coords = reg_coords + \" {}\".format(str(coord))\n",
    "                file_object.write(f\"{category} {reg_coords}\\n\")                    \n",
    "\n",
    "                category = annotations['cell']\n",
    "                seg = page['regions'][s_regions[2]['index']]['polygon'].flatten().tolist()\n",
    "                result = [num / image_width if i % 2 == 0 else num /image_height  for i, num in enumerate(seg)]\n",
    "                reg_coords = \"\"\n",
    "                for coord in result:\n",
    "                    reg_coords = reg_coords + \" {}\".format(str(coord))\n",
    "                file_object.write(f\"{category} {reg_coords}\\n\")  \n",
    "            elif len(page['regions']) == 4:\n",
    "                category = annotations['header']\n",
    "                seg = page['regions'][s_regions[0]['index']]['polygon'].flatten().tolist()\n",
    "                result = [num / image_width if i % 2 == 0 else num /image_height  for i, num in enumerate(seg)]\n",
    "                reg_coords = \"\"\n",
    "                for coord in result:\n",
    "                    reg_coords = reg_coords + \" {}\".format(str(coord))\n",
    "                file_object.write(f\"{category} {reg_coords}\\n\")                    \n",
    "\n",
    "                seg = page['regions'][s_regions[1]['index']]['polygon'].flatten().tolist()\n",
    "                result = [num / image_width if i % 2 == 0 else num /image_height  for i, num in enumerate(seg)]\n",
    "                reg_coords = \"\"\n",
    "                for coord in result:\n",
    "                    reg_coords = reg_coords + \" {}\".format(str(coord))\n",
    "                file_object.write(f\"{category} {reg_coords}\\n\")\n",
    "                \n",
    "                category = annotations['cell']\n",
    "                seg = page['regions'][s_regions[2]['index']]['polygon'].flatten().tolist()\n",
    "                result = [num / image_width if i % 2 == 0 else num /image_height  for i, num in enumerate(seg)]\n",
    "                reg_coords = \"\"\n",
    "                for coord in result:\n",
    "                    reg_coords = reg_coords + \" {}\".format(str(coord))\n",
    "                file_object.write(f\"{category} {reg_coords}\\n\")  \n",
    "                \n",
    "                seg = page['regions'][s_regions[3]['index']]['polygon'].flatten().tolist()\n",
    "                result = [num / image_width if i % 2 == 0 else num /image_height  for i, num in enumerate(seg)]\n",
    "                reg_coords = \"\"\n",
    "                for coord in result:\n",
    "                    reg_coords = reg_coords + \" {}\".format(str(coord))\n",
    "                file_object.write(f\"{category} {reg_coords}\\n\")  \n",
    "            elif len(page['regions']) == 6:\n",
    "                category = annotations['title']\n",
    "                seg = page['regions'][s_regions[0]['index']]['polygon'].flatten().tolist()\n",
    "                result = [num / image_width if i % 2 == 0 else num /image_height  for i, num in enumerate(seg)]\n",
    "                reg_coords = \"\"\n",
    "                for coord in result:\n",
    "                    reg_coords = reg_coords + \" {}\".format(str(coord))\n",
    "                file_object.write(f\"{category} {reg_coords}\\n\")\n",
    "                \n",
    "                seg = page['regions'][s_regions[1]['index']]['polygon'].flatten().tolist()\n",
    "                result = [num / image_width if i % 2 == 0 else num /image_height  for i, num in enumerate(seg)]\n",
    "                reg_coords = \"\"\n",
    "                for coord in result:\n",
    "                    reg_coords = reg_coords + \" {}\".format(str(coord))\n",
    "                file_object.write(f\"{category} {reg_coords}\\n\")                    \n",
    "                \n",
    "                category = annotations['header']\n",
    "                seg = page['regions'][s_regions[2]['index']]['polygon'].flatten().tolist()\n",
    "                result = [num / image_width if i % 2 == 0 else num /image_height  for i, num in enumerate(seg)]\n",
    "                reg_coords = \"\"\n",
    "                for coord in result:\n",
    "                    reg_coords = reg_coords + \" {}\".format(str(coord))\n",
    "                file_object.write(f\"{category} {reg_coords}\\n\") \n",
    "                \n",
    "                seg = page['regions'][s_regions[3]['index']]['polygon'].flatten().tolist()\n",
    "                result = [num / image_width if i % 2 == 0 else num /image_height  for i, num in enumerate(seg)]\n",
    "                reg_coords = \"\"\n",
    "                for coord in result:\n",
    "                    reg_coords = reg_coords + \" {}\".format(str(coord))\n",
    "                file_object.write(f\"{category} {reg_coords}\\n\")                    \n",
    "\n",
    "                category = annotations['cell']\n",
    "                seg = page['regions'][s_regions[4]['index']]['polygon'].flatten().tolist()\n",
    "                result = [num / image_width if i % 2 == 0 else num /image_height  for i, num in enumerate(seg)]\n",
    "                reg_coords = \"\"\n",
    "                for coord in result:\n",
    "                    reg_coords = reg_coords + \" {}\".format(str(coord))\n",
    "                file_object.write(f\"{category} {reg_coords}\\n\")  \n",
    "                \n",
    "                seg = page['regions'][s_regions[5]['index']]['polygon'].flatten().tolist()\n",
    "                result = [num / image_width if i % 2 == 0 else num /image_height  for i, num in enumerate(seg)]\n",
    "                reg_coords = \"\"\n",
    "                for coord in result:\n",
    "                    reg_coords = reg_coords + \" {}\".format(str(coord))\n",
    "                file_object.write(f\"{category} {reg_coords}\\n\")  \n",
    "            else:\n",
    "                print(\"Annotation error\", idx, dataset.__getname__(idx))\n",
    "                \n",
    "            file_object.close()"
   ]
  },
  {
   "cell_type": "code",
   "execution_count": 11,
   "id": "fa1e495b-ba31-4532-875a-865045a48887",
   "metadata": {},
   "outputs": [],
   "source": [
    "import random"
   ]
  },
  {
   "cell_type": "code",
   "execution_count": 19,
   "id": "fbfb036d-5d09-4742-b210-929b8d810a40",
   "metadata": {},
   "outputs": [],
   "source": [
    "train_set = sorted(random.sample(range(dataset.__len__()), 1300))\n",
    "val_set = [x for x in range(dataset.__len__()) if x not in train_set] "
   ]
  },
  {
   "cell_type": "code",
   "execution_count": 22,
   "id": "bd96c672-2c89-49dc-ad24-886cbde72649",
   "metadata": {},
   "outputs": [],
   "source": [
    "train_set = [x for x in range(dataset.__len__())]\n",
    "val_set = []"
   ]
  },
  {
   "cell_type": "code",
   "execution_count": 23,
   "id": "989bd887-e62c-4430-b6a6-d3abbee87b3e",
   "metadata": {},
   "outputs": [
    {
     "name": "stdout",
     "output_type": "stream",
     "text": [
      "Annotation error 145 sample_all_printed_2a\\viipuri_muuttaneet_1866-1873_tksrk_mko784-790_122\n",
      "Annotation error 257 sample_all_printed_2c\\keuruu_muuttaneet_1818-1826_ap_9\n"
     ]
    }
   ],
   "source": [
    "annotations = {'background': 0, 'title': 1, \"header\": 2, \"cell\": 3}\n",
    "yolo_path = \"C:/Users/arive/Datasets/Muutot/YOLO_275_Cell/train\"\n",
    "createYOLOsegmentCell(dataset, yolo_path, train_set)\n",
    "\n",
    "#yolo_path = \"C:/Users/arive/Datasets/Muutot/YOLO_1492_Cell/val\"\n",
    "#createYOLOsegmentCell(dataset, yolo_path, val_set)"
   ]
  },
  {
   "cell_type": "code",
   "execution_count": 23,
   "id": "38d84cca",
   "metadata": {},
   "outputs": [],
   "source": [
    "annotations = {'background': 0, 'title': 1, \"header\": 2, \"content\": 3}\n",
    "\n",
    "def createYOLOsegmentRegions(dataset, yolo_path, imgsz=(640,640)):\n",
    "    if not os.path.exists(yolo_path):\n",
    "        os.makedirs(yolo_path)\n",
    "    if not os.path.exists(os.path.join(yolo_path, \"images\")):\n",
    "        os.makedirs(os.path.join(yolo_path, \"images\"))\n",
    "    if not os.path.exists(os.path.join(yolo_path, \"labels\")):\n",
    "        os.makedirs(os.path.join(yolo_path, \"labels\"))\n",
    "    for idx in selection):\n",
    "        source, size = dataset.__getsize__(idx)\n",
    "        destination = f\"{yolo_path}/images/img{idx}.jpg\"\n",
    "        img = cv2.imread(source)\n",
    "        resized_img = cv2.resize(img, imgsz)\n",
    "        cv2.imwrite(destination, resized_img)\n",
    "    for idx in selection:\n",
    "        name, size = dataset.__getsize__(idx)\n",
    "        image_width = size[1]\n",
    "        image_height = size[0]\n",
    "        page = dataset.__getXMLitem__(idx)\n",
    "        if len(page['regions']) > 0:\n",
    "            file_object = open(f\"{yolo_path}/labels/img{idx}.txt\", \"w\")\n",
    "            regions = []\n",
    "            for i, reg in enumerate(page['regions']):\n",
    "                n_reg = {}\n",
    "                n_reg['index'] = i\n",
    "                xmax, ymax = reg['polygon'].max(axis=0)\n",
    "                xmin, ymin = reg['polygon'].min(axis=0)\n",
    "                n_reg['topcorner'] = (xmin, ymin)\n",
    "                regions.append(n_reg)\n",
    "            s_regions = sorted(regions, key=lambda x: (x['topcorner'][1], x['topcorner'][0]), reverse=False)\n",
    "            if len(page['regions']) == 3:\n",
    "                category = annotations['title']\n",
    "                seg = page['regions'][s_regions[0]['index']]['polygon'].flatten().tolist()\n",
    "                result = [num / image_width if i % 2 == 0 else num /image_height  for i, num in enumerate(seg)]\n",
    "                reg_coords = \"\"\n",
    "                for coord in result:\n",
    "                    reg_coords = reg_coords + \" {}\".format(str(coord))\n",
    "                file_object.write(f\"{category} {reg_coords}\\n\")                    \n",
    "\n",
    "                category = annotations['header']\n",
    "                seg = page['regions'][s_regions[1]['index']]['polygon'].flatten().tolist()\n",
    "                result = [num / image_width if i % 2 == 0 else num /image_height  for i, num in enumerate(seg)]\n",
    "                reg_coords = \"\"\n",
    "                for coord in result:\n",
    "                    reg_coords = reg_coords + \" {}\".format(str(coord))\n",
    "                file_object.write(f\"{category} {reg_coords}\\n\")                    \n",
    "\n",
    "                category = annotations['content']\n",
    "                seg = page['regions'][s_regions[2]['index']]['polygon'].flatten().tolist()\n",
    "                result = [num / image_width if i % 2 == 0 else num /image_height  for i, num in enumerate(seg)]\n",
    "                reg_coords = \"\"\n",
    "                for coord in result:\n",
    "                    reg_coords = reg_coords + \" {}\".format(str(coord))\n",
    "                file_object.write(f\"{category} {reg_coords}\\n\")                    \n",
    "\n",
    "            elif len(page['regions']) == 4:\n",
    "                category = annotations['header']\n",
    "                seg = page['regions'][s_regions[0]['index']]['polygon'].flatten().tolist()\n",
    "                result = [num / image_width if i % 2 == 0 else num /image_height  for i, num in enumerate(seg)]\n",
    "                reg_coords = \"\"\n",
    "                for coord in result:\n",
    "                    reg_coords = reg_coords + \" {}\".format(str(coord))\n",
    "                file_object.write(f\"{category} {reg_coords}\\n\")    \n",
    "                \n",
    "                seg = page['regions'][s_regions[1]['index']]['polygon'].flatten().tolist()\n",
    "                result = [num / image_width if i % 2 == 0 else num /image_height  for i, num in enumerate(seg)]\n",
    "                reg_coords = \"\"\n",
    "                for coord in result:\n",
    "                    reg_coords = reg_coords + \" {}\".format(str(coord))\n",
    "                file_object.write(f\"{category} {reg_coords}\\n\")\n",
    "                \n",
    "                category = annotations['content']\n",
    "                seg = page['regions'][s_regions[2]['index']]['polygon'].flatten().tolist()\n",
    "                result = [num / image_width if i % 2 == 0 else num /image_height  for i, num in enumerate(seg)]\n",
    "                reg_coords = \"\"\n",
    "                for coord in result:\n",
    "                    reg_coords = reg_coords + \" {}\".format(str(coord))\n",
    "                file_object.write(f\"{category} {reg_coords}\\n\")                    \n",
    "\n",
    "                seg = page['regions'][s_regions[3]['index']]['polygon'].flatten().tolist()\n",
    "                result = [num / image_width if i % 2 == 0 else num /image_height  for i, num in enumerate(seg)]\n",
    "                reg_coords = \"\"\n",
    "                for coord in result:\n",
    "                    reg_coords = reg_coords + \" {}\".format(str(coord))\n",
    "                file_object.write(f\"{category} {reg_coords}\\n\")                    \n",
    "\n",
    "            elif len(page['regions']) == 6:\n",
    "                category = annotations['title']\n",
    "                seg = page['regions'][s_regions[0]['index']]['polygon'].flatten().tolist()\n",
    "                result = [num / image_width if i % 2 == 0 else num /image_height  for i, num in enumerate(seg)]\n",
    "                reg_coords = \"\"\n",
    "                for coord in result:\n",
    "                    reg_coords = reg_coords + \" {}\".format(str(coord))\n",
    "                file_object.write(f\"{category} {reg_coords}\\n\")               \n",
    "                \n",
    "                seg = page['regions'][s_regions[1]['index']]['polygon'].flatten().tolist()\n",
    "                result = [num / image_width if i % 2 == 0 else num /image_height  for i, num in enumerate(seg)]\n",
    "                reg_coords = \"\"\n",
    "                for coord in result:\n",
    "                    reg_coords = reg_coords + \" {}\".format(str(coord))\n",
    "                file_object.write(f\"{category} {reg_coords}\\n\")                    \n",
    "                \n",
    "                category = annotations['header']\n",
    "                seg = page['regions'][s_regions[2]['index']]['polygon'].flatten().tolist()\n",
    "                result = [num / image_width if i % 2 == 0 else num /image_height  for i, num in enumerate(seg)]\n",
    "                reg_coords = \"\"\n",
    "                for coord in result:\n",
    "                    reg_coords = reg_coords + \" {}\".format(str(coord))\n",
    "                file_object.write(f\"{category} {reg_coords}\\n\")  \n",
    "                \n",
    "                seg = page['regions'][s_regions[3]['index']]['polygon'].flatten().tolist()\n",
    "                result = [num / image_width if i % 2 == 0 else num /image_height  for i, num in enumerate(seg)]\n",
    "                reg_coords = \"\"\n",
    "                for coord in result:\n",
    "                    reg_coords = reg_coords + \" {}\".format(str(coord))\n",
    "                file_object.write(f\"{category} {reg_coords}\\n\")                    \n",
    "\n",
    "                category = annotations['content']\n",
    "                seg = page['regions'][s_regions[4]['index']]['polygon'].flatten().tolist()\n",
    "                result = [num / image_width if i % 2 == 0 else num /image_height  for i, num in enumerate(seg)]\n",
    "                reg_coords = \"\"\n",
    "                for coord in result:\n",
    "                    reg_coords = reg_coords + \" {}\".format(str(coord))\n",
    "                file_object.write(f\"{category} {reg_coords}\\n\")                    \n",
    "\n",
    "                seg = page['regions'][s_regions[5]['index']]['polygon'].flatten().tolist()\n",
    "                result = [num / image_width if i % 2 == 0 else num /image_height  for i, num in enumerate(seg)]\n",
    "                reg_coords = \"\"\n",
    "                for coord in result:\n",
    "                    reg_coords = reg_coords + \" {}\".format(str(coord))\n",
    "                file_object.write(f\"{category} {reg_coords}\\n\")                    \n",
    "            else:\n",
    "                print(\"Annotation error\", idx, dataset.__getname__(idx))\n",
    "                \n",
    "            file_object.close()"
   ]
  },
  {
   "cell_type": "code",
   "execution_count": 24,
   "id": "2b360f18-fb48-46ab-8402-e661b6c25b02",
   "metadata": {},
   "outputs": [
    {
     "name": "stdout",
     "output_type": "stream",
     "text": [
      "Annotation error 145 sample_all_printed_2a\\viipuri_muuttaneet_1866-1873_tksrk_mko784-790_122\n",
      "Annotation error 257 sample_all_printed_2c\\keuruu_muuttaneet_1818-1826_ap_9\n"
     ]
    }
   ],
   "source": [
    "yolo_path = \"C:/Users/arive/Datasets/Muutot/YOLOReg\"\n",
    "createYOLOsegmentRegions(dataset, yolo_path)"
   ]
  },
  {
   "cell_type": "code",
   "execution_count": null,
   "id": "0ebe923b-8ec7-4cf4-bda6-8986cea63d41",
   "metadata": {},
   "outputs": [],
   "source": [
    "page['regions'][3]['table']\n",
    "\n"
   ]
  },
  {
   "cell_type": "code",
   "execution_count": null,
   "id": "bb15dff1-7874-4f28-a032-55edbd706979",
   "metadata": {},
   "outputs": [],
   "source": [
    "[poly['polygon'] for poly in page['regions']]"
   ]
  },
  {
   "cell_type": "code",
   "execution_count": null,
   "id": "33ad5cec-6ae0-4d77-b93e-16e97dafde98",
   "metadata": {},
   "outputs": [],
   "source": [
    "for idx in range(dataset.__len__()):\n",
    "    page = dataset.__getXMLitem__(idx)\n",
    "    regions = []\n",
    "    for i, reg in enumerate(page['regions']):\n",
    "        n_reg = {}\n",
    "        n_reg['index'] = i\n",
    "        xmax, ymax = reg['polygon'].max(axis=0)\n",
    "        xmin, ymin = reg['polygon'].min(axis=0)\n",
    "        n_reg['topcorner'] = (xmin, ymin)\n",
    "        regions.append(n_reg)\n",
    "    s_regions = sorted(regions, key=lambda x: (x['topcorner'][1], x['topcorner'][0]), reverse=False)\n",
    "    if len(page['regions']) == 3:\n",
    "        \n",
    "        print(\"Table title\", page['regions'][s_regions[0]['index']]['polygon'])\n",
    "        print(\"Table header\", page['regions'][s_regions[1]['index']]['polygon'])\n",
    "        for cell in page['regions'][s_regions[2]['index']]['table']:\n",
    "            print(\"Cell coords\", cell['polygon'])\n",
    "    elif len(page['regions']) == 4:\n",
    "        print(\"Table header\", page['regions'][s_regions[0]['index']]['polygon'])\n",
    "        print(\"Table header\", page['regions'][s_regions[1]['index']]['polygon'])\n",
    "        for cell in page['regions'][s_regions[2]['index']]['table']:\n",
    "            print(\"Cell coords\", cell['polygon'])\n",
    "        for cell in page['regions'][s_regions[3]['index']]['table']:\n",
    "            print(\"Cell coords\", cell['polygon'])\n",
    "    elif len(page['regions']) == 6:\n",
    "        print(\"Table title\", page['regions'][s_regions[0]['index']]['polygon'])\n",
    "        print(\"Table title\", page['regions'][s_regions[1]['index']]['polygon'])\n",
    "        print(\"Table header\", page['regions'][s_regions[2]['index']]['polygon'])\n",
    "        print(\"Table header\", page['regions'][s_regions[3]['index']]['polygon'])\n",
    "        for cell in page['regions'][s_regions[4]['index']]['table']:\n",
    "            print(\"Cell coords\", cell['polygon'])\n",
    "        for cell in page['regions'][s_regions[5]['index']]['table']:\n",
    "            print(\"Cell coords\", cell['polygon'])\n",
    "    else:\n",
    "        print(\"Annotation error\", idx, dataset.__getname__(idx))"
   ]
  },
  {
   "cell_type": "code",
   "execution_count": null,
   "id": "28c30669-d52f-4c2f-965b-d6a082661daa",
   "metadata": {},
   "outputs": [],
   "source": [
    "regions"
   ]
  },
  {
   "cell_type": "code",
   "execution_count": null,
   "id": "b3db8d78-396a-4a32-b5de-cef1ee9b37ea",
   "metadata": {},
   "outputs": [],
   "source": [
    " sorted(regions, key=lambda x: (x['topcorner'][1], x['topcorner'][0]), reverse=False)"
   ]
  },
  {
   "cell_type": "code",
   "execution_count": null,
   "id": "525b3dda-63b6-4784-82d9-e86e888b08ca",
   "metadata": {},
   "outputs": [],
   "source": [
    "def get_cell_corners(page):\n",
    "    cell_corners = {}\n",
    "\n",
    "    for cell in reg['table']:\n",
    "        row = cell['row']\n",
    "        col = cell['col']\n",
    "        xmax, ymax = cell['polygon'].max(axis=0)\n",
    "        xmin, ymin = cell['polygon'].min(axis=0)\n",
    "        top_left = (xmin, ymin)\n",
    "        top_right = (xmax, ymin)\n",
    "        bottom_left = (xmin, ymax)\n",
    "        bottom_right = (xmax, ymax)\n",
    "        cell_corners[(row, col)] = [top_left, top_right, bottom_right, bottom_left]\n",
    "\n",
    "    return cell_corners\n",
    "\n"
   ]
  },
  {
   "cell_type": "code",
   "execution_count": null,
   "id": "350fcbe3-453e-44b1-8014-d6713d58f60d",
   "metadata": {},
   "outputs": [],
   "source": [
    "for i, reg in enumerate(page['regions']):\n",
    "    if reg['regiontype'] == \"TableRegion\":\n",
    "        print(\"Table:\", i)\n",
    "        cell_corners = get_cell_corners(reg['table'])\n",
    "        for key, corners in cell_corners.items():\n",
    "            print(f\"Cell {key} corners: {corners}\")\n"
   ]
  },
  {
   "cell_type": "code",
   "execution_count": null,
   "id": "b4017c0a-15ee-4d08-acbb-e20613931032",
   "metadata": {},
   "outputs": [],
   "source": [
    "idx"
   ]
  },
  {
   "cell_type": "code",
   "execution_count": null,
   "id": "fbd7f34a-446b-4949-b648-021244565cc1",
   "metadata": {},
   "outputs": [],
   "source": []
  }
 ],
 "metadata": {
  "kernelspec": {
   "display_name": "Python 3 (ipykernel)",
   "language": "python",
   "name": "python3"
  },
  "language_info": {
   "codemirror_mode": {
    "name": "ipython",
    "version": 3
   },
   "file_extension": ".py",
   "mimetype": "text/x-python",
   "name": "python",
   "nbconvert_exporter": "python",
   "pygments_lexer": "ipython3",
   "version": "3.9.18"
  }
 },
 "nbformat": 4,
 "nbformat_minor": 5
}
